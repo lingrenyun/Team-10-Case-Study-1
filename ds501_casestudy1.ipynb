{
 "cells": [
  {
   "cell_type": "code",
   "execution_count": 7,
   "metadata": {
    "collapsed": true
   },
   "outputs": [],
   "source": [
    "import twitter\n",
    "def oauth_login():\n",
    "    # Go to http://twitter.com/apps/new to create an app and get values\n",
    "    # for these credentials that you'll need to provide in place of these\n",
    "    # empty string values that are defined as placeholders.\n",
    "    # See https://dev.twitter.com/docs/auth/oauth for more information \n",
    "    # on Twitter's OAuth implementation.\n",
    "    \n",
    "    CONSUMER_KEY = 'B1WfhBnkMQLpLDQ11b6VnZwei'\n",
    "    CONSUMER_SECRET ='tP54RQXtgy2KiqaMqVbirXpL0K2zAegLdV1qj4VwuatEVTvI7L'\n",
    "    OAUTH_TOKEN = '774411918228480000-FWHzgQ6eONbgTMzC0HMyv6lLCrSdhBZ'\n",
    "    OAUTH_TOKEN_SECRET = 'baajexEQQaCXtdgkj9lDL5sTq1TPNR4RTo4L9xIaayrcp'\n",
    "    \n",
    "    auth = twitter.oauth.OAuth(OAUTH_TOKEN, OAUTH_TOKEN_SECRET,\n",
    "                               CONSUMER_KEY, CONSUMER_SECRET)\n",
    "    \n",
    "    twitter_api = twitter.Twitter(auth=auth)\n",
    "    return twitter_api\n"
   ]
  },
  {
   "cell_type": "code",
   "execution_count": 39,
   "metadata": {
    "collapsed": false
   },
   "outputs": [
    {
     "name": "stdout",
     "output_type": "stream",
     "text": [
      "20 Friends of Tyler Swift\n",
      "+------------+----------------+\n",
      "| Friend ID  |      Name      |\n",
      "+------------+----------------+\n",
      "|  23828685  |   erikhassle   |\n",
      "| 159225370  |  alessiacara   |\n",
      "| 3273378864 |     EL__VY     |\n",
      "| 103012173  |   charli_xcx   |\n",
      "|  14790899  | DierksBentley  |\n",
      "| 241747585  |   IamStevenT   |\n",
      "|  19024308  |  AlisonKrauss  |\n",
      "|  26180278  |    todrick     |\n",
      "|  23690344  | kelly_clarkson |\n",
      "|  20322929  |   wizkhalifa   |\n",
      "|  31239408  |    Beyonce     |\n",
      "| 243905905  |   LisaKudrow   |\n",
      "|  18518096  |   st_vincent   |\n",
      "|  54999357  |      beck      |\n",
      "| 154280902  |    Zendaya     |\n",
      "|  73992972  |  AvrilLavigne  |\n",
      "|  16409683  | britneyspears  |\n",
      "|  54951973  |   maryjblige   |\n",
      "| 318531174  |  TheRyanAdams  |\n",
      "+------------+----------------+\n",
      "20 Followers of Tyler Swift\n",
      "+--------------------+-----------------+\n",
      "|    Follower ID     |       Name      |\n",
      "+--------------------+-----------------+\n",
      "| 776484645449916416 |   evelynsukosd  |\n",
      "| 776489548016553985 |  dancegiorgia18 |\n",
      "| 766324682639441921 |   miaxxmorgan   |\n",
      "| 776136025227849728 |    zohan1193    |\n",
      "| 775477685476732930 |  lupe870323601  |\n",
      "| 776487598290112512 |    jamillia8    |\n",
      "|     211908497      |     omyimJAH    |\n",
      "|     3401405591     |     GioGrunb    |\n",
      "| 776489081228304384 |    poke_shit    |\n",
      "| 711382991902117888 | gabrielbrianna5 |\n",
      "| 775813426719313920 |    babafliz01   |\n",
      "| 776489587954843648 | cristin84690113 |\n",
      "| 776489088400711680 |     Kliiset     |\n",
      "|     128240925      |    MERCHE500    |\n",
      "| 776462459716640768 |  aymenslimi069  |\n",
      "|     4790002507     |    DeannaP19    |\n",
      "| 776490267918667776 |   usernameunk1  |\n",
      "| 776489427329617921 |  nowshin_karim  |\n",
      "| 776490154156490754 |    balazs1220   |\n",
      "+--------------------+-----------------+\n"
     ]
    }
   ],
   "source": [
    "import sys\n",
    "import twitter\n",
    "#from recipe__make_twitter_request import make_twitter_request\n",
    "import functools\n",
    "from prettytable import PrettyTable\n",
    "\n",
    "SCREEN_NAME = 'taylorswift13'\n",
    "MAX_IDS = 20\n",
    "twitter_api = oauth_login()\n",
    "\n",
    "cursor = -1\n",
    "friend_ids = []\n",
    "while cursor != 0 and len(friend_ids)<80:\n",
    "\n",
    "    response = twitter_api.friends.list(screen_name=SCREEN_NAME, cursor=cursor)\n",
    "    friend_ids += response['users']\n",
    "    cursor = response['next_cursor']\n",
    "\n",
    "\n",
    "friend_list = PrettyTable(field_names=['Friend ID', 'Name']) \n",
    "\n",
    "for user in friend_ids[1:20]:\n",
    "    friend_list.add_row([user['id'], user['screen_name']])\n",
    "\n",
    "print (\"20 Friends of Tyler Swift\")    \n",
    "print (friend_list)\n",
    "\n",
    "cursor = -1\n",
    "follower_ids = []\n",
    "while cursor != 0 and len(follower_ids)<80:\n",
    "\n",
    "    follower_response = twitter_api.followers.list(screen_name=SCREEN_NAME, cursor=cursor)\n",
    "    follower_ids += follower_response['users']\n",
    "    cursor = follower_response['next_cursor']\n",
    "\n",
    "follower_list = PrettyTable(field_names=['Follower ID', 'Name']) \n",
    "\n",
    "for user in follower_ids[1:20]:\n",
    "    follower_list.add_row([user['id'], user['screen_name']])\n",
    "    \n",
    "print (\"20 Followers of Tyler Swift\")\n",
    "print (follower_list)\n"
   ]
  },
  {
   "cell_type": "code",
   "execution_count": 40,
   "metadata": {
    "collapsed": false
   },
   "outputs": [
    {
     "name": "stdout",
     "output_type": "stream",
     "text": [
      "set()\n",
      "+---------+------+\n",
      "| User ID | Name |\n",
      "+---------+------+\n",
      "+---------+------+\n"
     ]
    }
   ],
   "source": [
    "SCREEN_NAME = 'taylorswift13'\n",
    "\n",
    "for friend in friend_ids:\n",
    "    friend = set([(friend['id'], friend['screen_name'])])\n",
    "for follower in follower_ids:\n",
    "    follower = set([(follower['id'], follower['screen_name']) ])\n",
    "\n",
    "    mutual_friend = friend.intersection(follower)\n",
    "    \n",
    "mutual_table = PrettyTable(field_names=['User ID', 'Name']) \n",
    "\n",
    "for user in mutual_friend:\n",
    "    mutual_table.add_row(user)\n",
    "\n",
    "print (mutual_friend)\n",
    "print (mutual_table)"
   ]
  }
 ],
 "metadata": {
  "kernelspec": {
   "display_name": "Python 3",
   "language": "python",
   "name": "python3"
  },
  "language_info": {
   "codemirror_mode": {
    "name": "ipython",
    "version": 3
   },
   "file_extension": ".py",
   "mimetype": "text/x-python",
   "name": "python",
   "nbconvert_exporter": "python",
   "pygments_lexer": "ipython3",
   "version": "3.5.1"
  }
 },
 "nbformat": 4,
 "nbformat_minor": 0
}
